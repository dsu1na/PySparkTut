{
 "cells": [
  {
   "attachments": {},
   "cell_type": "markdown",
   "metadata": {},
   "source": [
    "## PYSPARK 1\n",
    "\n",
    "1. https://www.educative.io/answers/how-to-create-a-sparksession-on-pyspark </br>\n",
    "2. https://sparkbyexamples.com/pyspark/pyspark-what-is-sparksession/ </br>\n",
    "3. https://sparkbyexamples.com/spark/what-is-apache-spark-driver/#:~:text=The%20Spark%20driver%20program%20is,representing%20the%20data%20flow%20internally. </br>"
   ]
  },
  {
   "cell_type": "code",
   "execution_count": 1,
   "metadata": {},
   "outputs": [],
   "source": [
    "import pyspark\n",
    "from pyspark.sql import SparkSession"
   ]
  },
  {
   "cell_type": "code",
   "execution_count": 2,
   "metadata": {},
   "outputs": [],
   "source": [
    "spark = SparkSession.builder.master(\"local[2]\") \\\n",
    "                            .appName(\"SampleSparkApplication\")\\\n",
    "                            .getOrCreate()"
   ]
  },
  {
   "attachments": {},
   "cell_type": "markdown",
   "metadata": {},
   "source": [
    "## CREATE DATAFRAME\n",
    "\n",
    "https://phoenixnap.com/kb/spark-create-dataframe </br>"
   ]
  },
  {
   "cell_type": "code",
   "execution_count": 3,
   "metadata": {},
   "outputs": [],
   "source": [
    "data = [{\"Category\": 'A', \"ID\": 1, \"Value\": 121.44, \"Truth\": True},\n",
    "        {\"Category\": 'B', \"ID\": 2, \"Value\": 300.01, \"Truth\": False},\n",
    "        {\"Category\": 'C', \"ID\": 3, \"Value\": 10.99, \"Truth\": None},\n",
    "        {\"Category\": 'E', \"ID\": 4, \"Value\": 33.87, \"Truth\": True}]"
   ]
  },
  {
   "cell_type": "code",
   "execution_count": 4,
   "metadata": {},
   "outputs": [
    {
     "name": "stdout",
     "output_type": "stream",
     "text": [
      "+--------+---+-----+------+\n",
      "|Category| ID|Truth| Value|\n",
      "+--------+---+-----+------+\n",
      "|       A|  1| true|121.44|\n",
      "|       B|  2|false|300.01|\n",
      "|       C|  3| null| 10.99|\n",
      "|       E|  4| true| 33.87|\n",
      "+--------+---+-----+------+\n",
      "\n"
     ]
    }
   ],
   "source": [
    "df = spark.createDataFrame(data)\n",
    "df.show()"
   ]
  },
  {
   "attachments": {},
   "cell_type": "markdown",
   "metadata": {},
   "source": [
    "<b> Use RDD </b>"
   ]
  },
  {
   "cell_type": "code",
   "execution_count": 7,
   "metadata": {},
   "outputs": [
    {
     "name": "stdout",
     "output_type": "stream",
     "text": [
      "The rdd variable is of type : <class 'pyspark.rdd.RDD'>\n",
      "+--------+---+-----+------+\n",
      "|Category| ID|Truth| Value|\n",
      "+--------+---+-----+------+\n",
      "|       A|  1| true|121.44|\n",
      "|       B|  2|false|300.01|\n",
      "|       C|  3| null| 10.99|\n",
      "|       E|  4| true| 33.87|\n",
      "+--------+---+-----+------+\n",
      "\n"
     ]
    }
   ],
   "source": [
    "from pyspark import SparkContext\n",
    "sc = SparkContext.getOrCreate()\n",
    "\n",
    "rdd = sc.parallelize(data)\n",
    "print(f\"The rdd variable is of type : {type(rdd)}\")\n",
    "df = rdd.toDF()\n",
    "df.show()"
   ]
  },
  {
   "cell_type": "markdown",
   "metadata": {},
   "source": [
    "## CREATE SCHEMA"
   ]
  },
  {
   "cell_type": "code",
   "execution_count": 3,
   "metadata": {},
   "outputs": [
    {
     "name": "stdout",
     "output_type": "stream",
     "text": [
      "root\n",
      " |-- FirstName: string (nullable = true)\n",
      " |-- MiddleName: string (nullable = true)\n",
      " |-- LastName: string (nullable = true)\n",
      "\n"
     ]
    }
   ],
   "source": [
    "from pyspark.sql.types import StructType, StructField, StringType\n",
    "\n",
    "schema = StructType([\n",
    "    StructField(\"FirstName\", StringType(), True),\n",
    "    StructField(\"MiddleName\", StringType(), True),\n",
    "    StructField(\"LastName\", StringType(), True)\n",
    "])\n",
    "\n",
    "# create empty dataframe from empty RDD\n",
    "empty_rdd = spark.sparkContext.emptyRDD()\n",
    "df = spark.createDataFrame(empty_rdd, schema)\n",
    "df.printSchema()"
   ]
  },
  {
   "cell_type": "code",
   "execution_count": null,
   "metadata": {},
   "outputs": [],
   "source": []
  }
 ],
 "metadata": {
  "kernelspec": {
   "display_name": "Python 3",
   "language": "python",
   "name": "python3"
  },
  "language_info": {
   "codemirror_mode": {
    "name": "ipython",
    "version": 3
   },
   "file_extension": ".py",
   "mimetype": "text/x-python",
   "name": "python",
   "nbconvert_exporter": "python",
   "pygments_lexer": "ipython3",
   "version": "3.8.5"
  },
  "orig_nbformat": 4
 },
 "nbformat": 4,
 "nbformat_minor": 2
}
